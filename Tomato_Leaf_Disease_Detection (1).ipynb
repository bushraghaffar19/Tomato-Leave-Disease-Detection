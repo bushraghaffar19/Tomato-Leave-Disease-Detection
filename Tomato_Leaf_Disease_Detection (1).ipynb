{
  "nbformat": 4,
  "nbformat_minor": 0,
  "metadata": {
    "colab": {
      "name": "Tomato-Leaf-Disease-Detection.ipynb",
      "provenance": [],
      "collapsed_sections": []
    },
    "kernelspec": {
      "name": "python3",
      "display_name": "Python 3"
    },
    "language_info": {
      "name": "python"
    },
    "gpuClass": "standard"
  },
  "cells": [
    {
      "cell_type": "markdown",
      "source": [
        "--> INSTALLING DEPENDENCIES:"
      ],
      "metadata": {
        "id": "bVILTRwd_mo7"
      }
    },
    {
      "cell_type": "code",
      "source": [
        "#!pip install pyyaml h5py\n",
        "#!pip install tensorflow\n",
        "#!pip install keras-utils"
      ],
      "metadata": {
        "id": "MVRrwkUF2G5h"
      },
      "execution_count": null,
      "outputs": []
    },
    {
      "cell_type": "markdown",
      "source": [
        "--> IMPORTING DEPENDENCIES:"
      ],
      "metadata": {
        "id": "qn-73nP9AqMa"
      }
    },
    {
      "cell_type": "code",
      "source": [
        "import pandas as pd\n",
        "import cv2 as cv\n",
        "import numpy as np\n",
        "import matplotlib.pyplot as plt\n",
        "import os\n",
        "import seaborn as sns\n",
        "import tensorflow as tf\n",
        "from tensorflow.keras.utils import to_categorical\n",
        "from keras.models import Sequential\n",
        "from tensorflow.keras.layers import Conv2D,Dense,Flatten,MaxPooling2D,Dropout"
      ],
      "metadata": {
        "id": "6v9_kM2H1wlJ"
      },
      "execution_count": null,
      "outputs": []
    },
    {
      "cell_type": "markdown",
      "source": [
        "--> MOUNTING GOOGLE DRIVE"
      ],
      "metadata": {
        "id": "ecakMg-_A5Y3"
      }
    },
    {
      "cell_type": "code",
      "source": [
        "from google.colab import drive\n",
        "drive.mount('/content/drive')"
      ],
      "metadata": {
        "id": "Z9cDvqy2rgl0",
        "colab": {
          "base_uri": "https://localhost:8080/"
        },
        "outputId": "95cae344-0bf6-4d8c-e5af-9c7584fd7499"
      },
      "execution_count": null,
      "outputs": [
        {
          "output_type": "stream",
          "name": "stdout",
          "text": [
            "Mounted at /content/drive\n"
          ]
        }
      ]
    },
    {
      "cell_type": "markdown",
      "source": [
        "--> Importing training dataset"
      ],
      "metadata": {
        "id": "w7BDkbtQBAo-"
      }
    },
    {
      "cell_type": "code",
      "execution_count": null,
      "metadata": {
        "id": "ShTsrofYlCQS"
      },
      "outputs": [],
      "source": [
        "DATASET=\"/content/drive/MyDrive/train_dataset\"\n",
        "\n",
        "CATEGORIES=[\"Tomato___Bacterial_spot\",\"Tomato___Early_blight\",\"Tomato___healthy\",\"Tomato___Late_blight\",\"Tomato___Leaf_Mold\",\"Tomato___Septoria_leaf_spot\",\"Tomato___Spider_mites Two-spotted_spider_mite\",\"Tomato___Target_Spot\",\"Tomato___Tomato_mosaic_virus\",\"Tomato___Tomato_Yellow_Leaf_Curl_Virus\"]\n",
        "#ten types of leaf diseases       \n",
        "train_data=[]\n",
        "\n",
        "for category in CATEGORIES:\n",
        "        label=CATEGORIES.index(category)\n",
        "        path=os.path.join(DATASET,category)\n",
        "        for img_file in os.listdir(path):\n",
        "            img=cv.imread(os.path.join(path,img_file),1)\n",
        "            img=cv.cvtColor(img,cv.COLOR_BGR2RGB)\n",
        "            img=cv.resize(img,(64,64))            \n",
        "            train_data.append([img,label])\n"
      ]
    },
    {
      "cell_type": "markdown",
      "source": [
        "--> Imorting validation dataset"
      ],
      "metadata": {
        "id": "7sl0_-sPa8QP"
      }
    },
    {
      "cell_type": "code",
      "source": [
        "test_data=[]\n",
        "DATASET2=\"/content/drive/MyDrive/valid_dataset\"\n",
        "for category in CATEGORIES:\n",
        "        label=CATEGORIES.index(category)\n",
        "        path=os.path.join(DATASET2,category)\n",
        "        for img_file in os.listdir(path):\n",
        "            img=cv.imread(os.path.join(path,img_file),1)\n",
        "            img=cv.cvtColor(img,cv.COLOR_BGR2RGB)\n",
        "            img=cv.resize(img,(64,64))\n",
        "            test_data.append([img,label])\n",
        "            \n",
        "print(len(train_data)) # size of train dataset\n",
        "print(len(test_data))  # size of validation dataset"
      ],
      "metadata": {
        "id": "_9-UZ_yXr3S5",
        "colab": {
          "base_uri": "https://localhost:8080/"
        },
        "outputId": "354fce33-3ad9-4b71-b203-fd79717a8173"
      },
      "execution_count": null,
      "outputs": [
        {
          "output_type": "stream",
          "name": "stdout",
          "text": [
            "18345\n",
            "4585\n"
          ]
        }
      ]
    },
    {
      "cell_type": "markdown",
      "source": [
        "--> Assigning Labels and Features"
      ],
      "metadata": {
        "id": "jndRuyRkaIEE"
      }
    },
    {
      "cell_type": "code",
      "source": [
        "import random\n",
        "\n",
        "random.shuffle(train_data)\n",
        "random.shuffle(test_data)\n",
        "\n",
        "for lbl in train_data[:10]:\n",
        "    print(lbl[1])\n",
        "    \n",
        "X_train=[]\n",
        "y_train=[]\n",
        "\n",
        "for features,label in train_data:\n",
        "    X_train.append(features)\n",
        "    y_train.append(label)\n"
      ],
      "metadata": {
        "id": "H7KzkDfZz8Uh",
        "colab": {
          "base_uri": "https://localhost:8080/"
        },
        "outputId": "3760dc0f-4d8a-4f45-e8a4-e7bef9667ff0"
      },
      "execution_count": null,
      "outputs": [
        {
          "output_type": "stream",
          "name": "stdout",
          "text": [
            "7\n",
            "1\n",
            "2\n",
            "4\n",
            "6\n",
            "3\n",
            "4\n",
            "1\n",
            "5\n",
            "7\n"
          ]
        }
      ]
    },
    {
      "cell_type": "code",
      "source": [
        "Y=[]\n",
        "for i in y_train:\n",
        "    if i==0:\n",
        "        Y.append(\"BACTERIAL SPOT\")\n",
        "    elif i==1:\n",
        "        Y.append(\"EARLY BLIGHT\")\n",
        "    elif i==2:\n",
        "        Y.append(\"HEALTHY\")\n",
        "    elif i==3:\n",
        "        Y.append(\"LATE BLIGHT\")\n",
        "    elif i==4:\n",
        "        Y.append(\"LEAF MOLD\")\n",
        "    elif i==5:\n",
        "        Y.append(\"SEPTORIA LEAF SPOT\")\n",
        "    elif i==6:\n",
        "        Y.append(\"SPIDER MITE\")\n",
        "    elif i==7:\n",
        "        Y.append(\"TARGET SPOT\")\n",
        "    elif i==8:\n",
        "        Y.append(\"MOSAIC VIRUS\")\n",
        "    else:\n",
        "        Y.append(\"YELLOW LEAF CURL VIRUS\")\n",
        "\n",
        "len(X_train),len(y_train)"
      ],
      "metadata": {
        "id": "eItYIm7W0G_k",
        "colab": {
          "base_uri": "https://localhost:8080/"
        },
        "outputId": "b89997ca-bae7-4ae3-cbdd-6bb1105521ae"
      },
      "execution_count": null,
      "outputs": [
        {
          "output_type": "execute_result",
          "data": {
            "text/plain": [
              "(18345, 18345)"
            ]
          },
          "metadata": {},
          "execution_count": 13
        }
      ]
    },
    {
      "cell_type": "code",
      "source": [
        "X_test=[]\n",
        "y_test=[]\n",
        "\n",
        "for features,label in test_data:\n",
        "    X_test.append(features)\n",
        "    y_test.append(label)\n",
        "    \n",
        "Z=[]\n",
        "for i in y_test:\n",
        "    if i==0:\n",
        "        Z.append(\"BACTERIAL SPOT\")\n",
        "    elif i==1:\n",
        "        Z.append(\"EARLY BLIGHT\")\n",
        "    elif i==2:\n",
        "        Z.append(\"HEALTHY\")\n",
        "    elif i==3:\n",
        "        Z.append(\"LATE BLIGHT\")\n",
        "    elif i==4:\n",
        "        Z.append(\"LEAF MOLD\")\n",
        "    elif i==5:\n",
        "        Z.append(\"SEPTORIA LEAF SPOT\")\n",
        "    elif i==6:\n",
        "        Z.append(\"SPIDER MITE\")\n",
        "    elif i==7:\n",
        "        Z.append(\"TARGET SPOT\")\n",
        "    elif i==8:\n",
        "        Z.append(\"MOSAIC VIRUS\")\n",
        "    else:\n",
        "        Z.append(\"YELLOW LEAF CURL VIRUS\")\n",
        "\n",
        "len(X_test),len(y_test)"
      ],
      "metadata": {
        "id": "fMDVWcLJ0Ykf",
        "colab": {
          "base_uri": "https://localhost:8080/"
        },
        "outputId": "ca045700-cbc3-41aa-a815-6f997935dee2"
      },
      "execution_count": null,
      "outputs": [
        {
          "output_type": "execute_result",
          "data": {
            "text/plain": [
              "(4585, 4585)"
            ]
          },
          "metadata": {},
          "execution_count": 14
        }
      ]
    },
    {
      "cell_type": "markdown",
      "source": [
        "--> Image Count"
      ],
      "metadata": {
        "id": "O_mk-w59aVKq"
      }
    },
    {
      "cell_type": "code",
      "source": [
        "X_train=np.array(X_train).reshape(-1,64,64,3)\n",
        "X_train=X_train/255.0\n",
        "X_train.shape\n",
        "\n",
        "X_test=np.array(X_test).reshape(-1,64,64,3)\n",
        "X_test=X_test/255.0\n",
        "X_test.shape\n",
        "\n",
        "order=['BACTERIAL SPOT','EARLY BLIGHT','HEALTHY','LATE BLIGHT','LEAF MOLD','SEPTORIA LEAF SPOT','SPIDER MITE','TARGET SPOT','MOSAIC VIRUS','YELLOW LEAF CURL VIRUS']\n",
        "\n",
        "ax=sns.countplot(Y, order=order)\n",
        "ax.set_xlabel(\"Leaf Diseases\")\n",
        "ax.set_xticklabels(ax.get_xticklabels(), rotation=40, ha='right')\n",
        "ax.set_ylabel(\"Image Count\")\n",
        "\n"
      ],
      "metadata": {
        "id": "ZO9WjwKV0i0Y",
        "colab": {
          "base_uri": "https://localhost:8080/",
          "height": 433
        },
        "outputId": "ae3bc1c0-951a-4fe5-b3ea-e06a1b39e6b6"
      },
      "execution_count": null,
      "outputs": [
        {
          "output_type": "stream",
          "name": "stderr",
          "text": [
            "/usr/local/lib/python3.7/dist-packages/seaborn/_decorators.py:43: FutureWarning: Pass the following variable as a keyword arg: x. From version 0.12, the only valid positional argument will be `data`, and passing other arguments without an explicit keyword will result in an error or misinterpretation.\n",
            "  FutureWarning\n"
          ]
        },
        {
          "output_type": "execute_result",
          "data": {
            "text/plain": [
              "Text(0, 0.5, 'Image Count')"
            ]
          },
          "metadata": {},
          "execution_count": 15
        },
        {
          "output_type": "display_data",
          "data": {
            "text/plain": [
              "<Figure size 432x288 with 1 Axes>"
            ],
            "image/png": "[encoded data removed]"
          },
          "metadata": {
            "needs_background": "light"
          }
        }
      ]
    },
    {
      "cell_type": "code",
      "source": [
        "ax=sns.countplot(Z, order=order)\n",
        "ax.set_xlabel(\"Leaf Diseases\")\n",
        "ax.set_xticklabels(ax.get_xticklabels(), rotation=40, ha='right')\n",
        "ax.set_ylabel(\"Image Count\")"
      ],
      "metadata": {
        "colab": {
          "base_uri": "https://localhost:8080/",
          "height": 433
        },
        "id": "1lvUG5Q68zFQ",
        "outputId": "9df10f37-61ad-416f-8bb9-9b808c9ec11b"
      },
      "execution_count": null,
      "outputs": [
        {
          "output_type": "stream",
          "name": "stderr",
          "text": [
            "/usr/local/lib/python3.7/dist-packages/seaborn/_decorators.py:43: FutureWarning: Pass the following variable as a keyword arg: x. From version 0.12, the only valid positional argument will be `data`, and passing other arguments without an explicit keyword will result in an error or misinterpretation.\n",
            "  FutureWarning\n"
          ]
        },
        {
          "output_type": "execute_result",
          "data": {
            "text/plain": [
              "Text(0, 0.5, 'Image Count')"
            ]
          },
          "metadata": {},
          "execution_count": 16
        },
        {
          "output_type": "display_data",
          "data": {
            "text/plain": [
              "<Figure size 432x288 with 1 Axes>"
            ],
            "image/png": "[encoded data removed]"
          },
          "metadata": {
            "needs_background": "light"
          }
        }
      ]
    },
    {
      "cell_type": "code",
      "source": [
        "one_hot_train=to_categorical(y_train)\n",
        "one_hot_train\n",
        "\n",
        "one_hot_test=to_categorical(y_test)\n",
        "one_hot_test"
      ],
      "metadata": {
        "colab": {
          "base_uri": "https://localhost:8080/"
        },
        "id": "jHT7aDGwoSqy",
        "outputId": "f9021ee2-e642-46da-ad55-0423dd1549b4"
      },
      "execution_count": null,
      "outputs": [
        {
          "output_type": "execute_result",
          "data": {
            "text/plain": [
              "array([[1., 0., 0., ..., 0., 0., 0.],\n",
              "       [0., 0., 0., ..., 0., 1., 0.],\n",
              "       [0., 0., 0., ..., 0., 0., 1.],\n",
              "       ...,\n",
              "       [0., 0., 0., ..., 0., 0., 0.],\n",
              "       [0., 1., 0., ..., 0., 0., 0.],\n",
              "       [1., 0., 0., ..., 0., 0., 0.]], dtype=float32)"
            ]
          },
          "metadata": {},
          "execution_count": 17
        }
      ]
    },
    {
      "cell_type": "markdown",
      "source": [
        "--> Creating Model"
      ],
      "metadata": {
        "id": "4oW83g_UaY3m"
      }
    },
    {
      "cell_type": "code",
      "source": [
        "def create_model():\n",
        "  classifier=Sequential()\n",
        "\n",
        "  classifier.add(Conv2D(32,(3,3), input_shape=(64,64,3), activation='relu'))\n",
        "  classifier.add(MaxPooling2D(pool_size=(2,2)))\n",
        "  classifier.add(Dropout(0.2))\n",
        "\n",
        "  classifier.add(Conv2D(64,(3,3), activation='relu'))\n",
        "  classifier.add(MaxPooling2D(pool_size=(2,2)))\n",
        "  classifier.add(Dropout(0.2))\n",
        "\n",
        "  classifier.add(Conv2D(128,(3,3), activation='relu'))\n",
        "  classifier.add(MaxPooling2D(pool_size=(2,2)))\n",
        "  classifier.add(Dropout(0.4))\n",
        "\n",
        "  classifier.add(Flatten())\n",
        "\n",
        "  classifier.add(Dense(activation='relu', units=64))\n",
        "  classifier.add(Dense(activation='relu', units=128))\n",
        "  classifier.add(Dense(activation='relu', units=64))\n",
        "  classifier.add(Dense(activation='softmax', units=10))\n",
        "\n",
        "  classifier.compile(optimizer='adam', loss='categorical_crossentropy', metrics=['accuracy'])\n",
        "  return classifier\n",
        "\n",
        "model=create_model()\n",
        "model.summary()\n"
      ],
      "metadata": {
        "id": "uOFf7v130j4W",
        "colab": {
          "base_uri": "https://localhost:8080/"
        },
        "outputId": "d53c6840-0e57-47a0-d076-a323d76a809a"
      },
      "execution_count": null,
      "outputs": [
        {
          "output_type": "stream",
          "name": "stdout",
          "text": [
            "Model: \"sequential_4\"\n",
            "_________________________________________________________________\n",
            " Layer (type)                Output Shape              Param #   \n",
            "=================================================================\n",
            " conv2d_12 (Conv2D)          (None, 62, 62, 32)        896       \n",
            "                                                                 \n",
            " max_pooling2d_12 (MaxPoolin  (None, 31, 31, 32)       0         \n",
            " g2D)                                                            \n",
            "                                                                 \n",
            " dropout_12 (Dropout)        (None, 31, 31, 32)        0         \n",
            "                                                                 \n",
            " conv2d_13 (Conv2D)          (None, 29, 29, 64)        18496     \n",
            "                                                                 \n",
            " max_pooling2d_13 (MaxPoolin  (None, 14, 14, 64)       0         \n",
            " g2D)                                                            \n",
            "                                                                 \n",
            " dropout_13 (Dropout)        (None, 14, 14, 64)        0         \n",
            "                                                                 \n",
            " conv2d_14 (Conv2D)          (None, 12, 12, 128)       73856     \n",
            "                                                                 \n",
            " max_pooling2d_14 (MaxPoolin  (None, 6, 6, 128)        0         \n",
            " g2D)                                                            \n",
            "                                                                 \n",
            " dropout_14 (Dropout)        (None, 6, 6, 128)         0         \n",
            "                                                                 \n",
            " flatten_4 (Flatten)         (None, 4608)              0         \n",
            "                                                                 \n",
            " dense_17 (Dense)            (None, 64)                294976    \n",
            "                                                                 \n",
            " dense_18 (Dense)            (None, 128)               8320      \n",
            "                                                                 \n",
            " dense_19 (Dense)            (None, 64)                8256      \n",
            "                                                                 \n",
            " dense_20 (Dense)            (None, 10)                650       \n",
            "                                                                 \n",
            "=================================================================\n",
            "Total params: 405,450\n",
            "Trainable params: 405,450\n",
            "Non-trainable params: 0\n",
            "_________________________________________________________________\n"
          ]
        }
      ]
    },
    {
      "cell_type": "markdown",
      "source": [
        "--> Training Model and evaluating it"
      ],
      "metadata": {
        "id": "uc2i7vxoacxH"
      }
    },
    {
      "cell_type": "code",
      "source": [
        "hist=model.fit(X_train,one_hot_train,epochs=75,batch_size=128,validation_split=0.2)\n",
        "\n",
        "test_loss,test_acc=model.evaluate(X_test,one_hot_test)\n",
        "test_loss,test_acc\n"
      ],
      "metadata": {
        "id": "EZTgZKYD0uNt",
        "colab": {
          "base_uri": "https://localhost:8080/"
        },
        "outputId": "00fe4503-3810-42a6-d614-04ae768a49a2"
      },
      "execution_count": null,
      "outputs": [
        {
          "output_type": "stream",
          "name": "stdout",
          "text": [
            "Epoch 1/75\n",
            "115/115 [==============================] - 15s 28ms/step - loss: 1.9361 - accuracy: 0.2721 - val_loss: 1.4319 - val_accuracy: 0.5097\n",
            "Epoch 2/75\n",
            "115/115 [==============================] - 2s 21ms/step - loss: 1.1230 - accuracy: 0.6021 - val_loss: 0.8364 - val_accuracy: 0.7195\n",
            "Epoch 3/75\n",
            "115/115 [==============================] - 2s 21ms/step - loss: 0.7641 - accuracy: 0.7321 - val_loss: 0.7601 - val_accuracy: 0.7223\n",
            "Epoch 4/75\n",
            "115/115 [==============================] - 2s 21ms/step - loss: 0.6207 - accuracy: 0.7823 - val_loss: 0.5695 - val_accuracy: 0.8005\n",
            "Epoch 5/75\n",
            "115/115 [==============================] - 2s 21ms/step - loss: 0.5275 - accuracy: 0.8140 - val_loss: 0.4553 - val_accuracy: 0.8487\n",
            "Epoch 6/75\n",
            "115/115 [==============================] - 2s 21ms/step - loss: 0.4720 - accuracy: 0.8356 - val_loss: 0.4029 - val_accuracy: 0.8643\n",
            "Epoch 7/75\n",
            "115/115 [==============================] - 2s 21ms/step - loss: 0.4240 - accuracy: 0.8530 - val_loss: 0.4725 - val_accuracy: 0.8354\n",
            "Epoch 8/75\n",
            "115/115 [==============================] - 2s 21ms/step - loss: 0.3611 - accuracy: 0.8752 - val_loss: 0.3732 - val_accuracy: 0.8727\n",
            "Epoch 9/75\n",
            "115/115 [==============================] - 2s 21ms/step - loss: 0.3424 - accuracy: 0.8781 - val_loss: 0.3339 - val_accuracy: 0.8847\n",
            "Epoch 10/75\n",
            "115/115 [==============================] - 2s 21ms/step - loss: 0.3031 - accuracy: 0.8926 - val_loss: 0.3094 - val_accuracy: 0.8978\n",
            "Epoch 11/75\n",
            "115/115 [==============================] - 2s 21ms/step - loss: 0.3060 - accuracy: 0.8912 - val_loss: 0.2977 - val_accuracy: 0.8972\n",
            "Epoch 12/75\n",
            "115/115 [==============================] - 2s 21ms/step - loss: 0.2710 - accuracy: 0.9048 - val_loss: 0.2464 - val_accuracy: 0.9161\n",
            "Epoch 13/75\n",
            "115/115 [==============================] - 2s 21ms/step - loss: 0.2475 - accuracy: 0.9100 - val_loss: 0.2390 - val_accuracy: 0.9117\n",
            "Epoch 14/75\n",
            "115/115 [==============================] - 2s 21ms/step - loss: 0.2174 - accuracy: 0.9251 - val_loss: 0.2318 - val_accuracy: 0.9229\n",
            "Epoch 15/75\n",
            "115/115 [==============================] - 2s 21ms/step - loss: 0.2225 - accuracy: 0.9220 - val_loss: 0.2227 - val_accuracy: 0.9245\n",
            "Epoch 16/75\n",
            "115/115 [==============================] - 2s 21ms/step - loss: 0.2145 - accuracy: 0.9233 - val_loss: 0.2444 - val_accuracy: 0.9131\n",
            "Epoch 17/75\n",
            "115/115 [==============================] - 2s 21ms/step - loss: 0.1866 - accuracy: 0.9333 - val_loss: 0.2024 - val_accuracy: 0.9330\n",
            "Epoch 18/75\n",
            "115/115 [==============================] - 2s 21ms/step - loss: 0.1716 - accuracy: 0.9384 - val_loss: 0.2229 - val_accuracy: 0.9237\n",
            "Epoch 19/75\n",
            "115/115 [==============================] - 2s 21ms/step - loss: 0.1601 - accuracy: 0.9411 - val_loss: 0.1933 - val_accuracy: 0.9330\n",
            "Epoch 20/75\n",
            "115/115 [==============================] - 3s 22ms/step - loss: 0.1756 - accuracy: 0.9383 - val_loss: 0.2319 - val_accuracy: 0.9193\n",
            "Epoch 21/75\n",
            "115/115 [==============================] - 2s 21ms/step - loss: 0.1590 - accuracy: 0.9420 - val_loss: 0.2180 - val_accuracy: 0.9231\n",
            "Epoch 22/75\n",
            "115/115 [==============================] - 2s 21ms/step - loss: 0.1440 - accuracy: 0.9476 - val_loss: 0.1668 - val_accuracy: 0.9449\n",
            "Epoch 23/75\n",
            "115/115 [==============================] - 2s 21ms/step - loss: 0.1366 - accuracy: 0.9526 - val_loss: 0.1542 - val_accuracy: 0.9466\n",
            "Epoch 24/75\n",
            "115/115 [==============================] - 3s 22ms/step - loss: 0.1449 - accuracy: 0.9470 - val_loss: 0.1857 - val_accuracy: 0.9395\n",
            "Epoch 25/75\n",
            "115/115 [==============================] - 2s 22ms/step - loss: 0.1295 - accuracy: 0.9532 - val_loss: 0.1937 - val_accuracy: 0.9409\n",
            "Epoch 26/75\n",
            "115/115 [==============================] - 2s 21ms/step - loss: 0.1226 - accuracy: 0.9558 - val_loss: 0.1814 - val_accuracy: 0.9398\n",
            "Epoch 27/75\n",
            "115/115 [==============================] - 2s 21ms/step - loss: 0.1282 - accuracy: 0.9541 - val_loss: 0.1935 - val_accuracy: 0.9351\n",
            "Epoch 28/75\n",
            "115/115 [==============================] - 2s 21ms/step - loss: 0.1233 - accuracy: 0.9551 - val_loss: 0.1640 - val_accuracy: 0.9479\n",
            "Epoch 29/75\n",
            "115/115 [==============================] - 2s 21ms/step - loss: 0.1080 - accuracy: 0.9605 - val_loss: 0.2070 - val_accuracy: 0.9332\n",
            "Epoch 30/75\n",
            "115/115 [==============================] - 2s 21ms/step - loss: 0.1091 - accuracy: 0.9612 - val_loss: 0.2103 - val_accuracy: 0.9316\n",
            "Epoch 31/75\n",
            "115/115 [==============================] - 2s 21ms/step - loss: 0.1100 - accuracy: 0.9606 - val_loss: 0.1378 - val_accuracy: 0.9526\n",
            "Epoch 32/75\n",
            "115/115 [==============================] - 3s 22ms/step - loss: 0.1003 - accuracy: 0.9632 - val_loss: 0.1770 - val_accuracy: 0.9414\n",
            "Epoch 33/75\n",
            "115/115 [==============================] - 2s 21ms/step - loss: 0.0920 - accuracy: 0.9687 - val_loss: 0.1733 - val_accuracy: 0.9436\n",
            "Epoch 34/75\n",
            "115/115 [==============================] - 2s 21ms/step - loss: 0.0868 - accuracy: 0.9670 - val_loss: 0.1773 - val_accuracy: 0.9488\n",
            "Epoch 35/75\n",
            "115/115 [==============================] - 2s 21ms/step - loss: 0.0887 - accuracy: 0.9674 - val_loss: 0.1465 - val_accuracy: 0.9523\n",
            "Epoch 36/75\n",
            "115/115 [==============================] - 2s 21ms/step - loss: 0.0911 - accuracy: 0.9668 - val_loss: 0.1411 - val_accuracy: 0.9542\n",
            "Epoch 37/75\n",
            "115/115 [==============================] - 2s 21ms/step - loss: 0.0867 - accuracy: 0.9703 - val_loss: 0.2044 - val_accuracy: 0.9346\n",
            "Epoch 38/75\n",
            "115/115 [==============================] - 2s 22ms/step - loss: 0.0928 - accuracy: 0.9678 - val_loss: 0.1698 - val_accuracy: 0.9452\n",
            "Epoch 39/75\n",
            "115/115 [==============================] - 2s 21ms/step - loss: 0.0863 - accuracy: 0.9699 - val_loss: 0.1822 - val_accuracy: 0.9389\n",
            "Epoch 40/75\n",
            "115/115 [==============================] - 2s 21ms/step - loss: 0.0816 - accuracy: 0.9721 - val_loss: 0.1736 - val_accuracy: 0.9419\n",
            "Epoch 41/75\n",
            "115/115 [==============================] - 2s 21ms/step - loss: 0.0997 - accuracy: 0.9650 - val_loss: 0.2000 - val_accuracy: 0.9313\n",
            "Epoch 42/75\n",
            "115/115 [==============================] - 2s 22ms/step - loss: 0.0773 - accuracy: 0.9716 - val_loss: 0.1272 - val_accuracy: 0.9586\n",
            "Epoch 43/75\n",
            "115/115 [==============================] - 2s 21ms/step - loss: 0.0636 - accuracy: 0.9770 - val_loss: 0.1352 - val_accuracy: 0.9588\n",
            "Epoch 44/75\n",
            "115/115 [==============================] - 3s 22ms/step - loss: 0.0587 - accuracy: 0.9789 - val_loss: 0.1691 - val_accuracy: 0.9460\n",
            "Epoch 45/75\n",
            "115/115 [==============================] - 2s 21ms/step - loss: 0.0717 - accuracy: 0.9743 - val_loss: 0.1305 - val_accuracy: 0.9608\n",
            "Epoch 46/75\n",
            "115/115 [==============================] - 2s 22ms/step - loss: 0.0545 - accuracy: 0.9811 - val_loss: 0.1257 - val_accuracy: 0.9591\n",
            "Epoch 47/75\n",
            "115/115 [==============================] - 2s 22ms/step - loss: 0.0563 - accuracy: 0.9791 - val_loss: 0.2566 - val_accuracy: 0.9272\n",
            "Epoch 48/75\n",
            "115/115 [==============================] - 3s 22ms/step - loss: 0.0688 - accuracy: 0.9751 - val_loss: 0.1336 - val_accuracy: 0.9591\n",
            "Epoch 49/75\n",
            "115/115 [==============================] - 2s 22ms/step - loss: 0.0581 - accuracy: 0.9789 - val_loss: 0.1702 - val_accuracy: 0.9520\n",
            "Epoch 50/75\n",
            "115/115 [==============================] - 2s 21ms/step - loss: 0.0596 - accuracy: 0.9773 - val_loss: 0.1449 - val_accuracy: 0.9567\n",
            "Epoch 51/75\n",
            "115/115 [==============================] - 2s 21ms/step - loss: 0.0642 - accuracy: 0.9769 - val_loss: 0.3520 - val_accuracy: 0.9049\n",
            "Epoch 52/75\n",
            "115/115 [==============================] - 2s 22ms/step - loss: 0.0924 - accuracy: 0.9676 - val_loss: 0.1232 - val_accuracy: 0.9591\n",
            "Epoch 53/75\n",
            "115/115 [==============================] - 3s 22ms/step - loss: 0.0491 - accuracy: 0.9830 - val_loss: 0.1774 - val_accuracy: 0.9444\n",
            "Epoch 54/75\n",
            "115/115 [==============================] - 2s 22ms/step - loss: 0.0527 - accuracy: 0.9811 - val_loss: 0.1389 - val_accuracy: 0.9583\n",
            "Epoch 55/75\n",
            "115/115 [==============================] - 3s 22ms/step - loss: 0.0794 - accuracy: 0.9710 - val_loss: 0.1316 - val_accuracy: 0.9586\n",
            "Epoch 56/75\n",
            "115/115 [==============================] - 2s 21ms/step - loss: 0.0414 - accuracy: 0.9848 - val_loss: 0.1441 - val_accuracy: 0.9591\n",
            "Epoch 57/75\n",
            "115/115 [==============================] - 3s 22ms/step - loss: 0.0583 - accuracy: 0.9797 - val_loss: 0.1258 - val_accuracy: 0.9618\n",
            "Epoch 58/75\n",
            "115/115 [==============================] - 3s 22ms/step - loss: 0.0506 - accuracy: 0.9828 - val_loss: 0.2090 - val_accuracy: 0.9395\n",
            "Epoch 59/75\n",
            "115/115 [==============================] - 3s 22ms/step - loss: 0.0613 - accuracy: 0.9782 - val_loss: 0.1475 - val_accuracy: 0.9575\n",
            "Epoch 60/75\n",
            "115/115 [==============================] - 3s 22ms/step - loss: 0.0334 - accuracy: 0.9886 - val_loss: 0.1409 - val_accuracy: 0.9564\n",
            "Epoch 61/75\n",
            "115/115 [==============================] - 3s 22ms/step - loss: 0.0582 - accuracy: 0.9798 - val_loss: 0.1682 - val_accuracy: 0.9441\n",
            "Epoch 62/75\n",
            "115/115 [==============================] - 3s 22ms/step - loss: 0.0545 - accuracy: 0.9814 - val_loss: 0.1701 - val_accuracy: 0.9523\n",
            "Epoch 63/75\n",
            "115/115 [==============================] - 3s 22ms/step - loss: 0.0629 - accuracy: 0.9772 - val_loss: 0.1653 - val_accuracy: 0.9490\n",
            "Epoch 64/75\n",
            "115/115 [==============================] - 2s 22ms/step - loss: 0.0502 - accuracy: 0.9821 - val_loss: 0.1701 - val_accuracy: 0.9523\n",
            "Epoch 65/75\n",
            "115/115 [==============================] - 2s 21ms/step - loss: 0.0572 - accuracy: 0.9804 - val_loss: 0.1457 - val_accuracy: 0.9558\n",
            "Epoch 66/75\n",
            "115/115 [==============================] - 2s 22ms/step - loss: 0.0358 - accuracy: 0.9875 - val_loss: 0.1367 - val_accuracy: 0.9651\n",
            "Epoch 67/75\n",
            "115/115 [==============================] - 2s 21ms/step - loss: 0.0623 - accuracy: 0.9787 - val_loss: 0.1375 - val_accuracy: 0.9616\n",
            "Epoch 68/75\n",
            "115/115 [==============================] - 2s 22ms/step - loss: 0.0535 - accuracy: 0.9815 - val_loss: 0.1727 - val_accuracy: 0.9509\n",
            "Epoch 69/75\n",
            "115/115 [==============================] - 2s 21ms/step - loss: 0.0599 - accuracy: 0.9795 - val_loss: 0.1591 - val_accuracy: 0.9545\n",
            "Epoch 70/75\n",
            "115/115 [==============================] - 2s 21ms/step - loss: 0.0433 - accuracy: 0.9846 - val_loss: 0.2121 - val_accuracy: 0.9395\n",
            "Epoch 71/75\n",
            "115/115 [==============================] - 2s 21ms/step - loss: 0.0462 - accuracy: 0.9841 - val_loss: 0.1531 - val_accuracy: 0.9556\n",
            "Epoch 72/75\n",
            "115/115 [==============================] - 3s 22ms/step - loss: 0.0464 - accuracy: 0.9828 - val_loss: 0.1643 - val_accuracy: 0.9493\n",
            "Epoch 73/75\n",
            "115/115 [==============================] - 2s 21ms/step - loss: 0.0375 - accuracy: 0.9867 - val_loss: 0.1395 - val_accuracy: 0.9602\n",
            "Epoch 74/75\n",
            "115/115 [==============================] - 3s 22ms/step - loss: 0.0425 - accuracy: 0.9853 - val_loss: 0.1420 - val_accuracy: 0.9627\n",
            "Epoch 75/75\n",
            "115/115 [==============================] - 2s 21ms/step - loss: 0.0418 - accuracy: 0.9854 - val_loss: 0.1719 - val_accuracy: 0.9539\n",
            "144/144 [==============================] - 1s 5ms/step - loss: 0.1618 - accuracy: 0.9533\n"
          ]
        },
        {
          "output_type": "execute_result",
          "data": {
            "text/plain": [
              "(0.1617555171251297, 0.9533260464668274)"
            ]
          },
          "metadata": {},
          "execution_count": 19
        }
      ]
    },
    {
      "cell_type": "markdown",
      "source": [
        "--> Loss Graph"
      ],
      "metadata": {
        "id": "cZ6JKdoyao-t"
      }
    },
    {
      "cell_type": "code",
      "source": [
        "plt.plot(hist.history['loss'])\n",
        "plt.plot(hist.history['val_loss'])\n",
        "plt.title('Classifier Loss')\n",
        "plt.ylabel('Loss')\n",
        "plt.xlabel('Epoch')\n",
        "plt.legend(['Train','Validation'],loc='upper right')\n",
        "plt.show()"
      ],
      "metadata": {
        "colab": {
          "base_uri": "https://localhost:8080/",
          "height": 295
        },
        "id": "q8pqn9KI-9Qm",
        "outputId": "7a6524c8-e339-4668-8a87-056dba1053f8"
      },
      "execution_count": null,
      "outputs": [
        {
          "output_type": "display_data",
          "data": {
            "text/plain": [
              "<Figure size 432x288 with 1 Axes>"
            ],
            "image/png": "[encoded data removed]"
          },
          "metadata": {
            "needs_background": "light"
          }
        }
      ]
    },
    {
      "cell_type": "markdown",
      "source": [
        "--> Accuracy Graph"
      ],
      "metadata": {
        "id": "10s0PP5xasPB"
      }
    },
    {
      "cell_type": "code",
      "source": [
        "plt.plot(hist.history['accuracy'])\n",
        "plt.plot(hist.history['val_accuracy'])\n",
        "plt.title('Classifier Accuracy')\n",
        "plt.ylabel('Accuracy')\n",
        "plt.xlabel('Epoch')\n",
        "plt.legend(['Train','Validation'],loc='upper left')\n",
        "plt.show()"
      ],
      "metadata": {
        "id": "lpxHnR0V0vYE",
        "colab": {
          "base_uri": "https://localhost:8080/",
          "height": 295
        },
        "outputId": "23403ba5-ee5e-4ac8-8083-25624346bcc9"
      },
      "execution_count": null,
      "outputs": [
        {
          "output_type": "display_data",
          "data": {
            "text/plain": [
              "<Figure size 432x288 with 1 Axes>"
            ],
            "image/png": "[encoded data removed]"
          },
          "metadata": {
            "needs_background": "light"
          }
        }
      ]
    },
    {
      "cell_type": "code",
      "source": [
        "y_pred=model.predict(X_test)\n",
        "classes=np.argmax(y_pred,axis=1)\n",
        "classes"
      ],
      "metadata": {
        "colab": {
          "base_uri": "https://localhost:8080/"
        },
        "id": "VCH4CFsg9oxn",
        "outputId": "4f50c691-36b0-486f-d848-3cc485fdfb99"
      },
      "execution_count": null,
      "outputs": [
        {
          "output_type": "execute_result",
          "data": {
            "text/plain": [
              "array([0, 8, 9, ..., 3, 1, 0])"
            ]
          },
          "metadata": {},
          "execution_count": 22
        }
      ]
    },
    {
      "cell_type": "code",
      "source": [
        "y_prob=model.predict(X_test)\n",
        "prob_y_classes=np.argmax(y_prob, axis=1)\n",
        "prob_y_classes"
      ],
      "metadata": {
        "colab": {
          "base_uri": "https://localhost:8080/"
        },
        "id": "JXElK3429kBT",
        "outputId": "42c0b5c0-7cd6-46a6-946d-376b873a0eae"
      },
      "execution_count": null,
      "outputs": [
        {
          "output_type": "execute_result",
          "data": {
            "text/plain": [
              "array([0, 8, 9, ..., 3, 1, 0])"
            ]
          },
          "metadata": {},
          "execution_count": 23
        }
      ]
    },
    {
      "cell_type": "markdown",
      "source": [
        "--> Roc curve for all disease classes"
      ],
      "metadata": {
        "id": "IHG5hQH2av84"
      }
    },
    {
      "cell_type": "code",
      "source": [
        "from sklearn.metrics import roc_curve, auc\n",
        "\n",
        "fpr = {}\n",
        "tpr = {}\n",
        "thresh ={}\n",
        "roc_auc={}\n",
        "\n",
        "n_class = 10\n",
        "\n",
        "for i in range(n_class):    \n",
        "    fpr[i], tpr[i], thresh[i] = roc_curve(y_test, y_prob[:,i], pos_label=i)\n",
        "    roc_auc[i] = auc(fpr[i], tpr[i])\n",
        "      \n",
        "plt.plot(fpr[0], tpr[0], color='orange',label='Bacterial Spot AUC = %0.3f' % roc_auc[0])\n",
        "plt.plot(fpr[1], tpr[1], color='green',label='Early Blight AUC = %0.3f' % roc_auc[1])\n",
        "plt.plot(fpr[2], tpr[2], color='blue',label='Healthy AUC = %0.3f' % roc_auc[2])\n",
        "plt.plot(fpr[3], tpr[3], color='red',label='Late Blight AUC = %0.3f' % roc_auc[3])\n",
        "plt.plot(fpr[4], tpr[4], color='pink',label='Leaf Mold AUC = %0.3f' % roc_auc[4])\n",
        "plt.plot(fpr[5], tpr[5], color='purple',label='Septoria Leaf Spot AUC = %0.3f' % roc_auc[5])\n",
        "plt.plot(fpr[6], tpr[6], color='brown',label='Spider Mites AUC = %0.3f' % roc_auc[6])\n",
        "plt.plot(fpr[7], tpr[7], color='cyan',label='Target Spot AUC = %0.3f' % roc_auc[7])\n",
        "plt.plot(fpr[8], tpr[8], color='yellow',label='Mosaic Virus AUC = %0.3f' % roc_auc[8])\n",
        "plt.plot(fpr[9], tpr[9], color='black',label='Yellow Leaf Curl Virus AUC = %0.3f' % roc_auc[9])\n",
        "plt.title('Tomato Leaves Diseases ROC curve')\n",
        "plt.xlabel('False Positive Rate')\n",
        "plt.ylabel('True Positive rate')\n",
        "plt.legend(loc='best')\n"
      ],
      "metadata": {
        "id": "zsCvQ2kA07rz",
        "colab": {
          "base_uri": "https://localhost:8080/",
          "height": 312
        },
        "outputId": "39ddb0ea-cb88-4258-ecf1-8e06f503dfe9"
      },
      "execution_count": null,
      "outputs": [
        {
          "output_type": "execute_result",
          "data": {
            "text/plain": [
              "<matplotlib.legend.Legend at 0x7f7c98d1ed50>"
            ]
          },
          "metadata": {},
          "execution_count": 24
        },
        {
          "output_type": "display_data",
          "data": {
            "text/plain": [
              "<Figure size 432x288 with 1 Axes>"
            ],
            "image/png": "[encoded data removed]"
          },
          "metadata": {
            "needs_background": "light"
          }
        }
      ]
    },
    {
      "cell_type": "markdown",
      "source": [
        "--> heat map confusion matrix and default confusion matrix"
      ],
      "metadata": {
        "id": "T0YBjEJWa1p4"
      }
    },
    {
      "cell_type": "code",
      "source": [
        "from sklearn.metrics import confusion_matrix\n",
        "from sklearn.metrics import ConfusionMatrixDisplay\n",
        "sns.heatmap(confusion_matrix(y_test,classes))\n",
        "cm=confusion_matrix(y_test,classes)\n",
        "cm_display = ConfusionMatrixDisplay(cm).plot()"
      ],
      "metadata": {
        "id": "VgmBDgrP08uu",
        "colab": {
          "base_uri": "https://localhost:8080/",
          "height": 527
        },
        "outputId": "5882d9ff-dc86-48b3-aec4-8d86b5913176"
      },
      "execution_count": null,
      "outputs": [
        {
          "output_type": "display_data",
          "data": {
            "text/plain": [
              "<Figure size 432x288 with 2 Axes>"
            ],
            "image/png": "[encoded data removed]"
          },
          "metadata": {
            "needs_background": "light"
          }
        },
        {
          "output_type": "display_data",
          "data": {
            "text/plain": [
              "<Figure size 432x288 with 2 Axes>"
            ],
            "image/png": "[encoded data removed]"
          },
          "metadata": {
            "needs_background": "light"
          }
        }
      ]
    },
    {
      "cell_type": "markdown",
      "source": [
        "--> Saving Model"
      ],
      "metadata": {
        "id": "9wD-MD_0a9Tw"
      }
    },
    {
      "cell_type": "code",
      "source": [
        "model=create_model()\n",
        "model.fit(X_train,one_hot_train,epochs=75,batch_size=128,validation_split=0.2)\n",
        "model.save(\"model.h5\")"
      ],
      "metadata": {
        "id": "eE-NoSvK1Go9",
        "colab": {
          "base_uri": "https://localhost:8080/"
        },
        "outputId": "4a74df45-b74e-499b-f52c-c928cbb735f1"
      },
      "execution_count": null,
      "outputs": [
        {
          "output_type": "stream",
          "name": "stdout",
          "text": [
            "Epoch 1/75\n",
            "115/115 [==============================] - 4s 26ms/step - loss: 1.9601 - accuracy: 0.2864 - val_loss: 1.5023 - val_accuracy: 0.4939\n",
            "Epoch 2/75\n",
            "115/115 [==============================] - 3s 22ms/step - loss: 1.1528 - accuracy: 0.5955 - val_loss: 0.9395 - val_accuracy: 0.6634\n",
            "Epoch 3/75\n",
            "115/115 [==============================] - 2s 21ms/step - loss: 0.8190 - accuracy: 0.7142 - val_loss: 0.8529 - val_accuracy: 0.7067\n",
            "Epoch 4/75\n",
            "115/115 [==============================] - 2s 21ms/step - loss: 0.6195 - accuracy: 0.7802 - val_loss: 0.5466 - val_accuracy: 0.8122\n",
            "Epoch 5/75\n",
            "115/115 [==============================] - 2s 21ms/step - loss: 0.5421 - accuracy: 0.8091 - val_loss: 0.5741 - val_accuracy: 0.7967\n",
            "Epoch 6/75\n",
            "115/115 [==============================] - 2s 21ms/step - loss: 0.4855 - accuracy: 0.8269 - val_loss: 0.6441 - val_accuracy: 0.7661\n",
            "Epoch 7/75\n",
            "115/115 [==============================] - 2s 21ms/step - loss: 0.4343 - accuracy: 0.8489 - val_loss: 0.3485 - val_accuracy: 0.8844\n",
            "Epoch 8/75\n",
            "115/115 [==============================] - 2s 21ms/step - loss: 0.3622 - accuracy: 0.8713 - val_loss: 0.3612 - val_accuracy: 0.8774\n",
            "Epoch 9/75\n",
            "115/115 [==============================] - 3s 27ms/step - loss: 0.3669 - accuracy: 0.8719 - val_loss: 0.3274 - val_accuracy: 0.8907\n",
            "Epoch 10/75\n",
            "115/115 [==============================] - 3s 25ms/step - loss: 0.3423 - accuracy: 0.8779 - val_loss: 0.3770 - val_accuracy: 0.8678\n",
            "Epoch 11/75\n",
            "115/115 [==============================] - 2s 21ms/step - loss: 0.2934 - accuracy: 0.8949 - val_loss: 0.2778 - val_accuracy: 0.9022\n",
            "Epoch 12/75\n",
            "115/115 [==============================] - 2s 21ms/step - loss: 0.2563 - accuracy: 0.9077 - val_loss: 0.2858 - val_accuracy: 0.8967\n",
            "Epoch 13/75\n",
            "115/115 [==============================] - 2s 21ms/step - loss: 0.2467 - accuracy: 0.9117 - val_loss: 0.2404 - val_accuracy: 0.9234\n",
            "Epoch 14/75\n",
            "115/115 [==============================] - 3s 24ms/step - loss: 0.2348 - accuracy: 0.9188 - val_loss: 0.2373 - val_accuracy: 0.9166\n",
            "Epoch 15/75\n",
            "115/115 [==============================] - 3s 28ms/step - loss: 0.2334 - accuracy: 0.9152 - val_loss: 0.2831 - val_accuracy: 0.9016\n",
            "Epoch 16/75\n",
            "115/115 [==============================] - 3s 26ms/step - loss: 0.2101 - accuracy: 0.9244 - val_loss: 0.2398 - val_accuracy: 0.9220\n",
            "Epoch 17/75\n",
            "115/115 [==============================] - 2s 21ms/step - loss: 0.2057 - accuracy: 0.9258 - val_loss: 0.2470 - val_accuracy: 0.9131\n",
            "Epoch 18/75\n",
            "115/115 [==============================] - 3s 26ms/step - loss: 0.1920 - accuracy: 0.9302 - val_loss: 0.2784 - val_accuracy: 0.9071\n",
            "Epoch 19/75\n",
            "115/115 [==============================] - 2s 21ms/step - loss: 0.2053 - accuracy: 0.9282 - val_loss: 0.2715 - val_accuracy: 0.9060\n",
            "Epoch 20/75\n",
            "115/115 [==============================] - 2s 22ms/step - loss: 0.1555 - accuracy: 0.9436 - val_loss: 0.2419 - val_accuracy: 0.9166\n",
            "Epoch 21/75\n",
            "115/115 [==============================] - 2s 21ms/step - loss: 0.1627 - accuracy: 0.9417 - val_loss: 0.2602 - val_accuracy: 0.9136\n",
            "Epoch 22/75\n",
            "115/115 [==============================] - 2s 21ms/step - loss: 0.1558 - accuracy: 0.9447 - val_loss: 0.1942 - val_accuracy: 0.9381\n",
            "Epoch 23/75\n",
            "115/115 [==============================] - 2s 21ms/step - loss: 0.1413 - accuracy: 0.9516 - val_loss: 0.2074 - val_accuracy: 0.9300\n",
            "Epoch 24/75\n",
            "115/115 [==============================] - 2s 21ms/step - loss: 0.1427 - accuracy: 0.9500 - val_loss: 0.2293 - val_accuracy: 0.9191\n",
            "Epoch 25/75\n",
            "115/115 [==============================] - 2s 22ms/step - loss: 0.1263 - accuracy: 0.9552 - val_loss: 0.2438 - val_accuracy: 0.9171\n",
            "Epoch 26/75\n",
            "115/115 [==============================] - 2s 21ms/step - loss: 0.1404 - accuracy: 0.9494 - val_loss: 0.1696 - val_accuracy: 0.9479\n",
            "Epoch 27/75\n",
            "115/115 [==============================] - 2s 21ms/step - loss: 0.1117 - accuracy: 0.9595 - val_loss: 0.1644 - val_accuracy: 0.9433\n",
            "Epoch 28/75\n",
            "115/115 [==============================] - 2s 21ms/step - loss: 0.1130 - accuracy: 0.9589 - val_loss: 0.1512 - val_accuracy: 0.9501\n",
            "Epoch 29/75\n",
            "115/115 [==============================] - 3s 22ms/step - loss: 0.1169 - accuracy: 0.9588 - val_loss: 0.1750 - val_accuracy: 0.9474\n",
            "Epoch 30/75\n",
            "115/115 [==============================] - 2s 21ms/step - loss: 0.1264 - accuracy: 0.9530 - val_loss: 0.1739 - val_accuracy: 0.9444\n",
            "Epoch 31/75\n",
            "115/115 [==============================] - 2s 21ms/step - loss: 0.1017 - accuracy: 0.9629 - val_loss: 0.2047 - val_accuracy: 0.9330\n",
            "Epoch 32/75\n",
            "115/115 [==============================] - 2s 21ms/step - loss: 0.0985 - accuracy: 0.9653 - val_loss: 0.1375 - val_accuracy: 0.9556\n",
            "Epoch 33/75\n",
            "115/115 [==============================] - 2s 21ms/step - loss: 0.0914 - accuracy: 0.9678 - val_loss: 0.2021 - val_accuracy: 0.9370\n",
            "Epoch 34/75\n",
            "115/115 [==============================] - 2s 21ms/step - loss: 0.1044 - accuracy: 0.9620 - val_loss: 0.2372 - val_accuracy: 0.9240\n",
            "Epoch 35/75\n",
            "115/115 [==============================] - 2s 21ms/step - loss: 0.1071 - accuracy: 0.9635 - val_loss: 0.1608 - val_accuracy: 0.9482\n",
            "Epoch 36/75\n",
            "115/115 [==============================] - 2s 21ms/step - loss: 0.1205 - accuracy: 0.9565 - val_loss: 0.2195 - val_accuracy: 0.9234\n",
            "Epoch 37/75\n",
            "115/115 [==============================] - 2s 21ms/step - loss: 0.0885 - accuracy: 0.9689 - val_loss: 0.1441 - val_accuracy: 0.9553\n",
            "Epoch 38/75\n",
            "115/115 [==============================] - 2s 21ms/step - loss: 0.0774 - accuracy: 0.9721 - val_loss: 0.1098 - val_accuracy: 0.9665\n",
            "Epoch 39/75\n",
            "115/115 [==============================] - 2s 21ms/step - loss: 0.0918 - accuracy: 0.9672 - val_loss: 0.2043 - val_accuracy: 0.9354\n",
            "Epoch 40/75\n",
            "115/115 [==============================] - 2s 21ms/step - loss: 0.0863 - accuracy: 0.9695 - val_loss: 0.1603 - val_accuracy: 0.9488\n",
            "Epoch 41/75\n",
            "115/115 [==============================] - 2s 21ms/step - loss: 0.0796 - accuracy: 0.9713 - val_loss: 0.1473 - val_accuracy: 0.9523\n",
            "Epoch 42/75\n",
            "115/115 [==============================] - 3s 24ms/step - loss: 0.0797 - accuracy: 0.9725 - val_loss: 0.2153 - val_accuracy: 0.9359\n",
            "Epoch 43/75\n",
            "115/115 [==============================] - 3s 23ms/step - loss: 0.0741 - accuracy: 0.9734 - val_loss: 0.1075 - val_accuracy: 0.9662\n",
            "Epoch 44/75\n",
            "115/115 [==============================] - 2s 22ms/step - loss: 0.0664 - accuracy: 0.9766 - val_loss: 0.1417 - val_accuracy: 0.9528\n",
            "Epoch 45/75\n",
            "115/115 [==============================] - 2s 21ms/step - loss: 0.0969 - accuracy: 0.9644 - val_loss: 0.1454 - val_accuracy: 0.9564\n",
            "Epoch 46/75\n",
            "115/115 [==============================] - 2s 22ms/step - loss: 0.0547 - accuracy: 0.9798 - val_loss: 0.1487 - val_accuracy: 0.9578\n",
            "Epoch 47/75\n",
            "115/115 [==============================] - 2s 21ms/step - loss: 0.0881 - accuracy: 0.9686 - val_loss: 0.1825 - val_accuracy: 0.9419\n",
            "Epoch 48/75\n",
            "115/115 [==============================] - 3s 22ms/step - loss: 0.0880 - accuracy: 0.9676 - val_loss: 0.1102 - val_accuracy: 0.9640\n",
            "Epoch 49/75\n",
            "115/115 [==============================] - 2s 21ms/step - loss: 0.0721 - accuracy: 0.9738 - val_loss: 0.1882 - val_accuracy: 0.9463\n",
            "Epoch 50/75\n",
            "115/115 [==============================] - 2s 21ms/step - loss: 0.0761 - accuracy: 0.9727 - val_loss: 0.1440 - val_accuracy: 0.9556\n",
            "Epoch 51/75\n",
            "115/115 [==============================] - 2s 21ms/step - loss: 0.0814 - accuracy: 0.9708 - val_loss: 0.1218 - val_accuracy: 0.9580\n",
            "Epoch 52/75\n",
            "115/115 [==============================] - 2s 21ms/step - loss: 0.0553 - accuracy: 0.9817 - val_loss: 0.1341 - val_accuracy: 0.9599\n",
            "Epoch 53/75\n",
            "115/115 [==============================] - 2s 21ms/step - loss: 0.0710 - accuracy: 0.9751 - val_loss: 0.1434 - val_accuracy: 0.9553\n",
            "Epoch 54/75\n",
            "115/115 [==============================] - 2s 21ms/step - loss: 0.0752 - accuracy: 0.9720 - val_loss: 0.1699 - val_accuracy: 0.9479\n",
            "Epoch 55/75\n",
            "115/115 [==============================] - 3s 25ms/step - loss: 0.0578 - accuracy: 0.9791 - val_loss: 0.1136 - val_accuracy: 0.9667\n",
            "Epoch 56/75\n",
            "115/115 [==============================] - 2s 21ms/step - loss: 0.0531 - accuracy: 0.9813 - val_loss: 0.1258 - val_accuracy: 0.9635\n",
            "Epoch 57/75\n",
            "115/115 [==============================] - 2s 22ms/step - loss: 0.0541 - accuracy: 0.9809 - val_loss: 0.2162 - val_accuracy: 0.9419\n",
            "Epoch 58/75\n",
            "115/115 [==============================] - 3s 24ms/step - loss: 0.0730 - accuracy: 0.9744 - val_loss: 0.1141 - val_accuracy: 0.9662\n",
            "Epoch 59/75\n",
            "115/115 [==============================] - 3s 23ms/step - loss: 0.0664 - accuracy: 0.9769 - val_loss: 0.1731 - val_accuracy: 0.9488\n",
            "Epoch 60/75\n",
            "115/115 [==============================] - 2s 21ms/step - loss: 0.0545 - accuracy: 0.9805 - val_loss: 0.1258 - val_accuracy: 0.9640\n",
            "Epoch 61/75\n",
            "115/115 [==============================] - 3s 22ms/step - loss: 0.0516 - accuracy: 0.9827 - val_loss: 0.3105 - val_accuracy: 0.9207\n",
            "Epoch 62/75\n",
            "115/115 [==============================] - 2s 22ms/step - loss: 0.0555 - accuracy: 0.9794 - val_loss: 0.1327 - val_accuracy: 0.9629\n",
            "Epoch 63/75\n",
            "115/115 [==============================] - 2s 22ms/step - loss: 0.0537 - accuracy: 0.9824 - val_loss: 0.1468 - val_accuracy: 0.9567\n",
            "Epoch 64/75\n",
            "115/115 [==============================] - 2s 22ms/step - loss: 0.0666 - accuracy: 0.9768 - val_loss: 0.1821 - val_accuracy: 0.9477\n",
            "Epoch 65/75\n",
            "115/115 [==============================] - 2s 21ms/step - loss: 0.0716 - accuracy: 0.9751 - val_loss: 0.1902 - val_accuracy: 0.9466\n",
            "Epoch 66/75\n",
            "115/115 [==============================] - 2s 21ms/step - loss: 0.0570 - accuracy: 0.9801 - val_loss: 0.1232 - val_accuracy: 0.9651\n",
            "Epoch 67/75\n",
            "115/115 [==============================] - 2s 22ms/step - loss: 0.0377 - accuracy: 0.9857 - val_loss: 0.1432 - val_accuracy: 0.9594\n",
            "Epoch 68/75\n",
            "115/115 [==============================] - 2s 21ms/step - loss: 0.0634 - accuracy: 0.9780 - val_loss: 0.1359 - val_accuracy: 0.9583\n",
            "Epoch 69/75\n",
            "115/115 [==============================] - 2s 21ms/step - loss: 0.0504 - accuracy: 0.9810 - val_loss: 0.1637 - val_accuracy: 0.9553\n",
            "Epoch 70/75\n",
            "115/115 [==============================] - 2s 21ms/step - loss: 0.0553 - accuracy: 0.9811 - val_loss: 0.1405 - val_accuracy: 0.9594\n",
            "Epoch 71/75\n",
            "115/115 [==============================] - 2s 21ms/step - loss: 0.0462 - accuracy: 0.9843 - val_loss: 0.1370 - val_accuracy: 0.9610\n",
            "Epoch 72/75\n",
            "115/115 [==============================] - 2s 21ms/step - loss: 0.0447 - accuracy: 0.9844 - val_loss: 0.1458 - val_accuracy: 0.9591\n",
            "Epoch 73/75\n",
            "115/115 [==============================] - 2s 21ms/step - loss: 0.0534 - accuracy: 0.9814 - val_loss: 0.1318 - val_accuracy: 0.9599\n",
            "Epoch 74/75\n",
            "115/115 [==============================] - 2s 21ms/step - loss: 0.0460 - accuracy: 0.9847 - val_loss: 0.1301 - val_accuracy: 0.9654\n",
            "Epoch 75/75\n",
            "115/115 [==============================] - 2s 21ms/step - loss: 0.0541 - accuracy: 0.9812 - val_loss: 0.1406 - val_accuracy: 0.9591\n"
          ]
        }
      ]
    },
    {
      "cell_type": "markdown",
      "source": [
        "--> Loading Model"
      ],
      "metadata": {
        "id": "fd9rXZ7ebC2g"
      }
    },
    {
      "cell_type": "code",
      "source": [
        "new_model = tf.keras.models.load_model('/content/drive/MyDrive/model.h5')\n",
        "new_model.summary()"
      ],
      "metadata": {
        "colab": {
          "base_uri": "https://localhost:8080/"
        },
        "id": "M40UNO9SnXR-",
        "outputId": "3d72b2e4-fa81-4d05-cc40-f10bbf831529"
      },
      "execution_count": null,
      "outputs": [
        {
          "output_type": "stream",
          "name": "stdout",
          "text": [
            "Model: \"sequential_3\"\n",
            "_________________________________________________________________\n",
            " Layer (type)                Output Shape              Param #   \n",
            "=================================================================\n",
            " conv2d_6 (Conv2D)           (None, 62, 62, 32)        896       \n",
            "                                                                 \n",
            " max_pooling2d_6 (MaxPooling  (None, 31, 31, 32)       0         \n",
            " 2D)                                                             \n",
            "                                                                 \n",
            " dropout_6 (Dropout)         (None, 31, 31, 32)        0         \n",
            "                                                                 \n",
            " conv2d_7 (Conv2D)           (None, 29, 29, 64)        18496     \n",
            "                                                                 \n",
            " max_pooling2d_7 (MaxPooling  (None, 14, 14, 64)       0         \n",
            " 2D)                                                             \n",
            "                                                                 \n",
            " dropout_7 (Dropout)         (None, 14, 14, 64)        0         \n",
            "                                                                 \n",
            " conv2d_8 (Conv2D)           (None, 12, 12, 128)       73856     \n",
            "                                                                 \n",
            " max_pooling2d_8 (MaxPooling  (None, 6, 6, 128)        0         \n",
            " 2D)                                                             \n",
            "                                                                 \n",
            " dropout_8 (Dropout)         (None, 6, 6, 128)         0         \n",
            "                                                                 \n",
            " flatten_2 (Flatten)         (None, 4608)              0         \n",
            "                                                                 \n",
            " dense_8 (Dense)             (None, 64)                294976    \n",
            "                                                                 \n",
            " dense_9 (Dense)             (None, 128)               8320      \n",
            "                                                                 \n",
            " dense_10 (Dense)            (None, 64)                8256      \n",
            "                                                                 \n",
            " dense_11 (Dense)            (None, 10)                650       \n",
            "                                                                 \n",
            "=================================================================\n",
            "Total params: 405,450\n",
            "Trainable params: 405,450\n",
            "Non-trainable params: 0\n",
            "_________________________________________________________________\n"
          ]
        }
      ]
    },
    {
      "cell_type": "markdown",
      "source": [
        "--> Evaluating Loaded Model"
      ],
      "metadata": {
        "id": "-UIj3LJnbF-U"
      }
    },
    {
      "cell_type": "code",
      "source": [
        "loss, acc = new_model.evaluate(X_test, one_hot_test)\n",
        "print('Restored model, accuracy: {:5.2f}%'.format(100 * acc))"
      ],
      "metadata": {
        "colab": {
          "base_uri": "https://localhost:8080/"
        },
        "id": "ao2sBzLWnlPt",
        "outputId": "3630c648-2da6-44ee-86b7-35e00e62a9e2"
      },
      "execution_count": null,
      "outputs": [
        {
          "output_type": "stream",
          "name": "stdout",
          "text": [
            "144/144 [==============================] - 1s 4ms/step - loss: 0.1688 - accuracy: 0.9514\n",
            "Restored model, accuracy: 95.14%\n"
          ]
        }
      ]
    },
    {
      "cell_type": "markdown",
      "source": [
        "--> Doing Predictions using model"
      ],
      "metadata": {
        "id": "jyk3ZbAcbL9C"
      }
    },
    {
      "cell_type": "code",
      "source": [
        "path = \"/content/drive/MyDrive/valid_dataset/Tomato___Septoria_leaf_spot/021f9747-f308-4694-859b-10f541a0e63c___JR_Sept.L.S 2506.JPG\"\n",
        "\n",
        "def single_prediction(path):\n",
        "    img=cv.imread(path)\n",
        "    img=cv.cvtColor(img,cv.COLOR_BGR2RGB)\n",
        "    img=cv.resize(img,(64,64))\n",
        "    return img.reshape(-1,64,64,3)\n",
        "\n",
        "x = tf.keras.Input(shape=(64,64,3))\n",
        "y = tf.keras.layers.Dense(16, activation='softmax')(x)\n",
        "    \n",
        "model_new = tf.keras.Model(x, y)\n",
        "model_new.summary()\n",
        "\n",
        "prediction = new_model.predict(single_prediction(path))\n",
        "r=np.argmax(prediction,axis=1)"
      ],
      "metadata": {
        "id": "O9FSIjtllISi",
        "colab": {
          "base_uri": "https://localhost:8080/"
        },
        "outputId": "4290c785-20f2-46f7-8491-2eefe771d5e8"
      },
      "execution_count": null,
      "outputs": [
        {
          "output_type": "stream",
          "name": "stdout",
          "text": [
            "Model: \"model_2\"\n",
            "_________________________________________________________________\n",
            " Layer (type)                Output Shape              Param #   \n",
            "=================================================================\n",
            " input_3 (InputLayer)        [(None, 64, 64, 3)]       0         \n",
            "                                                                 \n",
            " dense_2 (Dense)             (None, 64, 64, 16)        64        \n",
            "                                                                 \n",
            "=================================================================\n",
            "Total params: 64\n",
            "Trainable params: 64\n",
            "Non-trainable params: 0\n",
            "_________________________________________________________________\n"
          ]
        }
      ]
    },
    {
      "cell_type": "code",
      "source": [
        "types=['BACTERIAL SPOT','EARLY BLIGHT','HEALTHY','LATE BLIGHT','LEAF MOLD','SEPTORIA LEAF SPOT','SPIDER MITE','TARGET SPOT','MOSAIC VIRUS','YELLOW LEAF CURL VIRUS']\n",
        "class_result=types[r[0]]\n",
        "print(r)\n",
        "print(class_result)"
      ],
      "metadata": {
        "colab": {
          "base_uri": "https://localhost:8080/"
        },
        "id": "XA0RHtRZrApx",
        "outputId": "7abf9e0d-5fe1-4ab8-c601-8292bcec188d"
      },
      "execution_count": null,
      "outputs": [
        {
          "output_type": "stream",
          "name": "stdout",
          "text": [
            "[5]\n",
            "SEPTORIA LEAF SPOT\n"
          ]
        }
      ]
    }
  ]
}